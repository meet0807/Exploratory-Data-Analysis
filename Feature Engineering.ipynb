{
 "cells": [
  {
   "cell_type": "code",
   "execution_count": 26,
   "id": "08393a3d-a81c-43f8-b052-28c2377ff214",
   "metadata": {},
   "outputs": [],
   "source": [
    "df['Title'] = df['Name'].str.extract(' ([A-Za-z]+)\\.', expand=False)"
   ]
  },
  {
   "cell_type": "code",
   "execution_count": 25,
   "id": "a52bd41e-16ba-4cb4-aa22-2ebf33b7634a",
   "metadata": {},
   "outputs": [],
   "source": [
    "bins = [0, 12, 18, 35, 60, np.inf]\n",
    "labels = ['Child', 'Teenager', 'Adult', 'Middle Aged', 'Senior']\n",
    "df['AgeGroup'] = pd.cut(df['Age'], bins, labels=labels)"
   ]
  },
  {
   "cell_type": "code",
   "execution_count": null,
   "id": "da016393-c59b-4c3d-875d-bbc344132ff1",
   "metadata": {},
   "outputs": [],
   "source": []
  }
 ],
 "metadata": {
  "kernelspec": {
   "display_name": "Python 3 (ipykernel)",
   "language": "python",
   "name": "python3"
  },
  "language_info": {
   "codemirror_mode": {
    "name": "ipython",
    "version": 3
   },
   "file_extension": ".py",
   "mimetype": "text/x-python",
   "name": "python",
   "nbconvert_exporter": "python",
   "pygments_lexer": "ipython3",
   "version": "3.11.7"
  }
 },
 "nbformat": 4,
 "nbformat_minor": 5
}
